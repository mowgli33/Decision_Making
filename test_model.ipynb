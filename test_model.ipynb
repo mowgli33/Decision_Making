{
 "cells": [
  {
   "cell_type": "code",
   "execution_count": 1,
   "metadata": {},
   "outputs": [
    {
     "name": "stdout",
     "output_type": "stream",
     "text": [
      "Data successfully saved to data/dataset_4/X.csv\n",
      "Data successfully saved to data/dataset_4/Y.csv\n"
     ]
    }
   ],
   "source": [
    "import numpy as np\n",
    "import os\n",
    "\n",
    "def npy_to_csv(input_file,output_file) :\n",
    "\n",
    "    try:\n",
    "        # Load data from the .npy file\n",
    "        data = np.load(input_file)\n",
    "\n",
    "        # Check if data is valid for CSV format\n",
    "        if isinstance(data, np.ndarray):\n",
    "            # Save the data as a CSV file\n",
    "            np.savetxt(output_file, data, delimiter=\",\", fmt=\"%s\")\n",
    "            print(f\"Data successfully saved to {output_file}\")\n",
    "        else:\n",
    "            print(\"The loaded data is not a NumPy array and cannot be saved as a CSV file.\")\n",
    "    except Exception as e:\n",
    "        print(f\"An error occurred: {e}\")\n",
    "\n",
    "# Load the .npy file\n",
    "input_file = '/mnt/data/X.npy'\n",
    "output_file = '/mnt/data/X.csv'\n",
    "\n",
    "npy_to_csv('data/dataset_4/X.npy','data/dataset_4/X.csv')\n",
    "npy_to_csv('data/dataset_4/Y.npy','data/dataset_4/Y.csv')\n"
   ]
  }
 ],
 "metadata": {
  "kernelspec": {
   "display_name": ".venv",
   "language": "python",
   "name": "python3"
  },
  "language_info": {
   "codemirror_mode": {
    "name": "ipython",
    "version": 3
   },
   "file_extension": ".py",
   "mimetype": "text/x-python",
   "name": "python",
   "nbconvert_exporter": "python",
   "pygments_lexer": "ipython3",
   "version": "3.12.7"
  }
 },
 "nbformat": 4,
 "nbformat_minor": 2
}
